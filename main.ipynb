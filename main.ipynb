{
 "cells": [
  {
   "cell_type": "code",
   "execution_count": 54,
   "metadata": {},
   "outputs": [],
   "source": [
    "import pandas as pd\n",
    "import matplotlib.pyplot as plt\n",
    "import numpy as np\n",
    "import tensorflow as tf\n",
    "import os\n",
    "from sklearn.model_selection import train_test_split\n",
    "from keras_preprocessing.image import ImageDataGenerator\n",
    "from tensorflow.keras.layers import Dense, Conv2D, MaxPooling2D, Flatten, BatchNormalization\n",
    "from models import CNN_Gender, CNN_Age\n",
    "import cv2\n",
    "import requests\n",
    "import json"
   ]
  },
  {
   "cell_type": "code",
   "execution_count": 4,
   "metadata": {},
   "outputs": [],
   "source": [
    "image_directory = \"../data/\""
   ]
  },
  {
   "cell_type": "code",
   "execution_count": 5,
   "metadata": {},
   "outputs": [],
   "source": [
    "#image size\n",
    "#200x200x3"
   ]
  },
  {
   "cell_type": "code",
   "execution_count": 6,
   "metadata": {},
   "outputs": [],
   "source": [
    "ages = []\n",
    "gender = []\n",
    "file_name = []\n",
    "data = []\n",
    "for file in os.listdir(image_directory):\n",
    "    split_file = file.split(\"_\")\n",
    "    if(len(split_file) == 4):\n",
    "        ages.append(int(split_file[0]))\n",
    "        gender.append(split_file[1])\n",
    "        file_name.append(image_directory+file)\n",
    "        #data.append(plt.imread(image_directory+file))\n",
    "#data = np.array(data).astype('float16')\n",
    "#gender = np.array(gender)\n",
    "#ages = np.array(ages)\n",
    "labels_dataframe = pd.DataFrame({\"ages\":ages,\"gender\":gender,\"file_name\":file_name})"
   ]
  },
  {
   "cell_type": "code",
   "execution_count": 7,
   "metadata": {},
   "outputs": [
    {
     "data": {
      "text/html": [
       "<div>\n",
       "<style scoped>\n",
       "    .dataframe tbody tr th:only-of-type {\n",
       "        vertical-align: middle;\n",
       "    }\n",
       "\n",
       "    .dataframe tbody tr th {\n",
       "        vertical-align: top;\n",
       "    }\n",
       "\n",
       "    .dataframe thead th {\n",
       "        text-align: right;\n",
       "    }\n",
       "</style>\n",
       "<table border=\"1\" class=\"dataframe\">\n",
       "  <thead>\n",
       "    <tr style=\"text-align: right;\">\n",
       "      <th></th>\n",
       "      <th>ages</th>\n",
       "      <th>gender</th>\n",
       "      <th>file_name</th>\n",
       "    </tr>\n",
       "  </thead>\n",
       "  <tbody>\n",
       "    <tr>\n",
       "      <td>0</td>\n",
       "      <td>100</td>\n",
       "      <td>0</td>\n",
       "      <td>../data/100_0_0_20170112213500903.jpg.chip.jpg</td>\n",
       "    </tr>\n",
       "    <tr>\n",
       "      <td>1</td>\n",
       "      <td>100</td>\n",
       "      <td>0</td>\n",
       "      <td>../data/100_0_0_20170112215240346.jpg.chip.jpg</td>\n",
       "    </tr>\n",
       "    <tr>\n",
       "      <td>2</td>\n",
       "      <td>100</td>\n",
       "      <td>1</td>\n",
       "      <td>../data/100_1_0_20170110183726390.jpg.chip.jpg</td>\n",
       "    </tr>\n",
       "    <tr>\n",
       "      <td>3</td>\n",
       "      <td>100</td>\n",
       "      <td>1</td>\n",
       "      <td>../data/100_1_0_20170112213001988.jpg.chip.jpg</td>\n",
       "    </tr>\n",
       "    <tr>\n",
       "      <td>4</td>\n",
       "      <td>100</td>\n",
       "      <td>1</td>\n",
       "      <td>../data/100_1_0_20170112213303693.jpg.chip.jpg</td>\n",
       "    </tr>\n",
       "    <tr>\n",
       "      <td>...</td>\n",
       "      <td>...</td>\n",
       "      <td>...</td>\n",
       "      <td>...</td>\n",
       "    </tr>\n",
       "    <tr>\n",
       "      <td>23700</td>\n",
       "      <td>9</td>\n",
       "      <td>1</td>\n",
       "      <td>../data/9_1_3_20161220222856346.jpg.chip.jpg</td>\n",
       "    </tr>\n",
       "    <tr>\n",
       "      <td>23701</td>\n",
       "      <td>9</td>\n",
       "      <td>1</td>\n",
       "      <td>../data/9_1_3_20170104222949455.jpg.chip.jpg</td>\n",
       "    </tr>\n",
       "    <tr>\n",
       "      <td>23702</td>\n",
       "      <td>9</td>\n",
       "      <td>1</td>\n",
       "      <td>../data/9_1_4_20170103200637399.jpg.chip.jpg</td>\n",
       "    </tr>\n",
       "    <tr>\n",
       "      <td>23703</td>\n",
       "      <td>9</td>\n",
       "      <td>1</td>\n",
       "      <td>../data/9_1_4_20170103200814791.jpg.chip.jpg</td>\n",
       "    </tr>\n",
       "    <tr>\n",
       "      <td>23704</td>\n",
       "      <td>9</td>\n",
       "      <td>1</td>\n",
       "      <td>../data/9_1_4_20170103213057382.jpg.chip.jpg</td>\n",
       "    </tr>\n",
       "  </tbody>\n",
       "</table>\n",
       "<p>23705 rows × 3 columns</p>\n",
       "</div>"
      ],
      "text/plain": [
       "       ages gender                                       file_name\n",
       "0       100      0  ../data/100_0_0_20170112213500903.jpg.chip.jpg\n",
       "1       100      0  ../data/100_0_0_20170112215240346.jpg.chip.jpg\n",
       "2       100      1  ../data/100_1_0_20170110183726390.jpg.chip.jpg\n",
       "3       100      1  ../data/100_1_0_20170112213001988.jpg.chip.jpg\n",
       "4       100      1  ../data/100_1_0_20170112213303693.jpg.chip.jpg\n",
       "...     ...    ...                                             ...\n",
       "23700     9      1    ../data/9_1_3_20161220222856346.jpg.chip.jpg\n",
       "23701     9      1    ../data/9_1_3_20170104222949455.jpg.chip.jpg\n",
       "23702     9      1    ../data/9_1_4_20170103200637399.jpg.chip.jpg\n",
       "23703     9      1    ../data/9_1_4_20170103200814791.jpg.chip.jpg\n",
       "23704     9      1    ../data/9_1_4_20170103213057382.jpg.chip.jpg\n",
       "\n",
       "[23705 rows x 3 columns]"
      ]
     },
     "execution_count": 7,
     "metadata": {},
     "output_type": "execute_result"
    }
   ],
   "source": [
    "labels_dataframe"
   ]
  },
  {
   "cell_type": "code",
   "execution_count": 8,
   "metadata": {},
   "outputs": [],
   "source": [
    "def preprocess(image):\n",
    "    image = image.astype('float16')\n",
    "    image = image/255\n",
    "    return image"
   ]
  },
  {
   "cell_type": "code",
   "execution_count": 9,
   "metadata": {},
   "outputs": [],
   "source": [
    "def create_generator(class_mode,y_col):\n",
    "    generator = ImageDataGenerator(validation_split = 0.2, preprocessing_function=preprocess)\n",
    "\n",
    "    train_generator = generator.flow_from_dataframe(\n",
    "\n",
    "        dataframe = labels_dataframe,\n",
    "        x_col = 'file_name',\n",
    "        y_col = y_col,\n",
    "        subset = \"training\",\n",
    "        batch_size = 32,\n",
    "        shuffle = True,\n",
    "        class_mode = class_mode,\n",
    "        target_size = (200,200)\n",
    "\n",
    "    )\n",
    "\n",
    "    validation_generator = generator.flow_from_dataframe(\n",
    "        dataframe = labels_dataframe,\n",
    "        x_col = 'file_name',\n",
    "        y_col = y_col,\n",
    "        subset = \"validation\",\n",
    "        batch_size = 32,\n",
    "        shuffle = True,\n",
    "        class_mode = class_mode,\n",
    "        target_size = (200,200) \n",
    "    )\n",
    "    return train_generator,validation_generator"
   ]
  },
  {
   "cell_type": "code",
   "execution_count": null,
   "metadata": {},
   "outputs": [],
   "source": [
    "train_generator, validation_generator = create_generator('binary','gender')\n",
    "gender_model = CNN_Gender()\n",
    "gender_model.compile(optimizer=\"adam\", loss = \"binary_crossentropy\", metrics = ['accuracy'])\n",
    "gender_model.fit_generator(generator=train_generator,validation_data=validation_generator, epochs = 2)"
   ]
  },
  {
   "cell_type": "code",
   "execution_count": 47,
   "metadata": {},
   "outputs": [
    {
     "name": "stdout",
     "output_type": "stream",
     "text": [
      "INFO:tensorflow:Assets written to: gender_model\\assets\n"
     ]
    }
   ],
   "source": [
    "gender_model.save(\"gender_model\")"
   ]
  },
  {
   "cell_type": "code",
   "execution_count": null,
   "metadata": {},
   "outputs": [],
   "source": [
    "train_generator, validation_generator = create_generator('raw','ages')\n",
    "age_model = CNN_Age()\n",
    "age_model.compile(optimizer=\"adam\", loss = \"mse\", metrics = ['mean_squared_error'])\n",
    "age_model.fit_generator(generator=train_generator,validation_data=validation_generator, epochs = 2)"
   ]
  },
  {
   "cell_type": "code",
   "execution_count": 15,
   "metadata": {},
   "outputs": [
    {
     "name": "stdout",
     "output_type": "stream",
     "text": [
      "INFO:tensorflow:Assets written to: age_model\\assets\n"
     ]
    }
   ],
   "source": [
    "age_model.save(\"age_model\")"
   ]
  }
 ],
 "metadata": {
  "kernelspec": {
   "display_name": "Python 3",
   "language": "python",
   "name": "python3"
  },
  "language_info": {
   "codemirror_mode": {
    "name": "ipython",
    "version": 3
   },
   "file_extension": ".py",
   "mimetype": "text/x-python",
   "name": "python",
   "nbconvert_exporter": "python",
   "pygments_lexer": "ipython3",
   "version": "3.7.4"
  }
 },
 "nbformat": 4,
 "nbformat_minor": 2
}
