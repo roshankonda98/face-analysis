{
 "cells": [
  {
   "cell_type": "code",
   "execution_count": 1,
   "metadata": {},
   "outputs": [],
   "source": [
    "import flask\n",
    "from flask import Flask, request, Response\n",
    "import tensorflow as tf\n",
    "import numpy as np\n",
    "import jsonpickle\n",
    "import cv2\n",
    "import json"
   ]
  },
  {
   "cell_type": "code",
   "execution_count": 2,
   "metadata": {},
   "outputs": [],
   "source": [
    "gender_model = tf.keras.models.load_model(\"gender_model\")\n",
    "age_model = tf.keras.models.load_model(\"age_model\")"
   ]
  },
  {
   "cell_type": "code",
   "execution_count": 47,
   "metadata": {},
   "outputs": [],
   "source": [
    "app = Flask(__name__)\n",
    "@app.route('/api/health',methods = ['GET'])\n",
    "def health_check():\n",
    "    #check if models can be loaded correctly\n",
    "    try:\n",
    "        gender_model = tf.keras.models.load_model(\"gender_model\")\n",
    "        age_model = tf.keras.models.load_model(\"age_model\")\n",
    "        if(gender_model and age_model):\n",
    "            status = 200\n",
    "        else:\n",
    "            status = 404\n",
    "    except:\n",
    "        status = 404\n",
    "        \n",
    "    return flask.Response(response=\"\\n\", status=status, mimetype=\"application/json\")\n",
    "\n",
    "@app.route('/api/predict',methods = ['POST'])\n",
    "def predict():\n",
    "    \n",
    "    #process data to be predicted\n",
    "    image_array = np.fromstring(request.data, np.uint8)\n",
    "    img = cv2.imdecode(image_array, cv2.IMREAD_COLOR)\n",
    "    img = img.astype('float16')\n",
    "    img = img/255.\n",
    "    img = np.array([img])\n",
    "    \n",
    "    #get gender prediction\n",
    "    gender_prediction = gender_model.predict(img)\n",
    "    gender_prediction = np.argmax(gender_prediction)\n",
    "    \n",
    "    if(gender_prediction == 0):\n",
    "        gender_prediction == \"Male\"\n",
    "    else:\n",
    "        gender_prediction == \"Female\"\n",
    "        \n",
    "    #get age prediction\n",
    "    age_prediction = age_model.predict(img)\n",
    "    age_prediction = age_prediction[0][0]\n",
    "    age_prediction = round(age_prediction)\n",
    "    \n",
    "    prediction = {\"Gender\":str(gender_prediction), \"Age\":str(age_prediction)}\n",
    "    \n",
    "    return flask.Response(response = json.dumps(prediction),status = 200, mimetype = 'application/json')"
   ]
  },
  {
   "cell_type": "code",
   "execution_count": null,
   "metadata": {},
   "outputs": [],
   "source": [
    "if __name__ == '__main__':\n",
    "    app.run(host = '0.0.0.0', port=105)"
   ]
  },
  {
   "cell_type": "code",
   "execution_count": null,
   "metadata": {},
   "outputs": [],
   "source": [
    "#example function to call api via image path\n",
    "def call_api(image):\n",
    "    img = open(image,'rb').read()\n",
    "    response = requests.post('http://localhost:105/api/predict',data = img)\n",
    "    return json.loads(response.content.decode('utf-8'))"
   ]
  }
 ],
 "metadata": {
  "kernelspec": {
   "display_name": "Python 3",
   "language": "python",
   "name": "python3"
  },
  "language_info": {
   "codemirror_mode": {
    "name": "ipython",
    "version": 3
   },
   "file_extension": ".py",
   "mimetype": "text/x-python",
   "name": "python",
   "nbconvert_exporter": "python",
   "pygments_lexer": "ipython3",
   "version": "3.7.4"
  }
 },
 "nbformat": 4,
 "nbformat_minor": 2
}
